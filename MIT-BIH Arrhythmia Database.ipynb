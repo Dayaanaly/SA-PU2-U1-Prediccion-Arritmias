{
 "cells": [
  {
   "cell_type": "markdown",
   "metadata": {},
   "source": [
    "# MIT-BIH Arrhythmia Database"
   ]
  },
  {
   "cell_type": "markdown",
   "metadata": {},
   "source": [
    "La base de datos de arritmias de MIT-BIH [1]\n",
    "> https://physionet.org/content/mitdb/1.0.0/\n"
   ]
  },
  {
   "cell_type": "markdown",
   "metadata": {},
   "source": [
    "Contiene 48 extractos de 30 minutos de registros de ECG ambulatorios de dos canales, obtenidos de 47 sujetos \n",
    "estudiados por el Laboratorio de Arrimias (BIH) entre 1975 y 1979."
   ]
  }
 ],
 "metadata": {
  "kernelspec": {
   "display_name": "Python 3.10.2 64-bit",
   "language": "python",
   "name": "python3"
  },
  "language_info": {
   "name": "python",
   "version": "3.10.2"
  },
  "orig_nbformat": 4,
  "vscode": {
   "interpreter": {
    "hash": "5f8cce82a0595c6b9c2eb575b1487c6b0107b9c7a79496a2672de7f3b6324b6b"
   }
  }
 },
 "nbformat": 4,
 "nbformat_minor": 2
}
